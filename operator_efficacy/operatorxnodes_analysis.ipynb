{
 "cells": [
  {
   "cell_type": "code",
   "execution_count": 2,
   "metadata": {},
   "outputs": [],
   "source": [
    "import os\n",
    "import collections\n",
    "import re\n",
    "import pprint"
   ]
  },
  {
   "cell_type": "markdown",
   "metadata": {},
   "source": [
    "# Importing data"
   ]
  },
  {
   "cell_type": "code",
   "execution_count": 3,
   "metadata": {},
   "outputs": [],
   "source": [
    "FILES = [file for file in os.listdir(\"logs_uniform_run2\") if not \"QuixBugs\" in file]"
   ]
  },
  {
   "cell_type": "code",
   "execution_count": 4,
   "metadata": {},
   "outputs": [
    {
     "data": {
      "text/plain": [
       "26"
      ]
     },
     "execution_count": 4,
     "metadata": {},
     "output_type": "execute_result"
    }
   ],
   "source": [
    "len(FILES)"
   ]
  },
  {
   "cell_type": "code",
   "execution_count": 5,
   "metadata": {},
   "outputs": [],
   "source": [
    "raw_records_list = list()\n",
    "\n",
    "for file in FILES:\n",
    "    if file != 'WRAP.log':\n",
    "        f = open(f\"logs_uniform_run2/{file}\", \"r\")\n",
    "        for raw_line in f:\n",
    "            line = raw_line.strip().split(\";\")\n",
    "            line.append(file[:-4])\n",
    "            raw_records_list.append(line)"
   ]
  },
  {
   "cell_type": "code",
   "execution_count": 6,
   "metadata": {},
   "outputs": [],
   "source": [
    "i = 0\n",
    "for line in raw_records_list:\n",
    "    \n",
    "    # extract run information for current patch\n",
    "    if line[12] != \"None\":\n",
    "        line[12] = line[12].split(\", \")\n",
    "        line[12][0] = line[12][0][1:]\n",
    "        line[12][-1] = line[12][-1][:-2]\n",
    "        line[12] = set(line[12])\n",
    "    \n",
    "    # extract run information for previous patch    \n",
    "    if line[13] != \"None\":\n",
    "        line[13] = line[13].split(\", \")\n",
    "        line[13][0] = line[13][0][1:]\n",
    "        line[13][-1] = line[13][-1][:-2]\n",
    "        line[13] = set(line[13])\n",
    "        \n",
    "    # decode target modiciation point for comparison operators\n",
    "    if \"Comp\" in line[9]:\n",
    "        line[10] = comp_op_per_program_dict[line[14]][line[10]]"
   ]
  },
  {
   "cell_type": "code",
   "execution_count": 7,
   "metadata": {},
   "outputs": [
    {
     "data": {
      "text/plain": [
       "225571"
      ]
     },
     "execution_count": 7,
     "metadata": {},
     "output_type": "execute_result"
    }
   ],
   "source": [
    "len(raw_records_list)"
   ]
  },
  {
   "cell_type": "code",
   "execution_count": 8,
   "metadata": {},
   "outputs": [],
   "source": [
    "records_list = [\n",
    "    line for line in raw_records_list \n",
    "    if \n",
    "    not \"EditDeletion\" in line[9]\n",
    "    and\n",
    "    not (line[9] == 'StmtReplacement' and line[10] == line[11])\n",
    "    and\n",
    "    not (line[9] == 'ComparisonOperator' and line[10] == line[11])\n",
    "]"
   ]
  },
  {
   "cell_type": "code",
   "execution_count": 9,
   "metadata": {},
   "outputs": [
    {
     "data": {
      "text/plain": [
       "167931"
      ]
     },
     "execution_count": 9,
     "metadata": {},
     "output_type": "execute_result"
    }
   ],
   "source": [
    "len(records_list)"
   ]
  },
  {
   "cell_type": "markdown",
   "metadata": {},
   "source": [
    "# Aggregating data: operator x target node"
   ]
  },
  {
   "cell_type": "code",
   "execution_count": 10,
   "metadata": {},
   "outputs": [],
   "source": [
    "def make_percent(num):\n",
    "    num = num * 100\n",
    "    num = round(num, 2)\n",
    "    \n",
    "    return str(num) + \"%\""
   ]
  },
  {
   "cell_type": "markdown",
   "metadata": {},
   "source": [
    "0 iter, 1 run status, 2 previous run status,\n",
    "\n",
    "3 return code, 4 previous return code,\n",
    "\n",
    "5 fitness, 6 previous fitness,\n",
    "\n",
    "7 patch length, 8 previous patch length,\n",
    "\n",
    "9 operator, 10 target, 11 ingredient,\n",
    "\n",
    "12 run info, 13 previous run info\n",
    "\n",
    "14 program name"
   ]
  },
  {
   "cell_type": "markdown",
   "metadata": {},
   "source": [
    "op_target_dict[operator] = {node_type: [not compile, compile, better fitness, worse fitness, same fitness, actually same fitness]}"
   ]
  },
  {
   "cell_type": "code",
   "execution_count": 11,
   "metadata": {},
   "outputs": [],
   "source": [
    "run_status_dict = collections.defaultdict(int)\n",
    "\n",
    "for line in records_list:\n",
    "    run_status_dict[line[1]] += 1"
   ]
  },
  {
   "cell_type": "code",
   "execution_count": 12,
   "metadata": {},
   "outputs": [
    {
     "data": {
      "text/plain": [
       "defaultdict(int, {'PARSE_ERROR': 119496, 'SUCCESS': 48435})"
      ]
     },
     "execution_count": 12,
     "metadata": {},
     "output_type": "execute_result"
    }
   ],
   "source": [
    "run_status_dict"
   ]
  },
  {
   "cell_type": "code",
   "execution_count": 14,
   "metadata": {},
   "outputs": [
    {
     "data": {
      "text/plain": [
       "167931"
      ]
     },
     "execution_count": 14,
     "metadata": {},
     "output_type": "execute_result"
    }
   ],
   "source": [
    "sum(run_status_dict.values())"
   ]
  },
  {
   "cell_type": "code",
   "execution_count": 15,
   "metadata": {},
   "outputs": [],
   "source": [
    "op_target_dict = collections.defaultdict(dict)\n",
    "\n",
    "operators_dict = collections.defaultdict(int)\n",
    "\n",
    "for line in records_list:\n",
    "    run_status = line[1]\n",
    "    operator = line[9]\n",
    "    target_node = line[10]\n",
    "    \n",
    "    if operator != \"ComparisonOperator\":\n",
    "        target_node = line[10].split(\"/\")[-1][:-3]\n",
    "    \n",
    "    if not operator in operators_dict.keys():\n",
    "        operators_dict[operator] = [0, 0, 0, 0, 0, 0]\n",
    "    \n",
    "    if not target_node in op_target_dict[operator].keys():\n",
    "        op_target_dict[operator][target_node] = [0, 0, 0, 0, 0, 0]\n",
    "        \n",
    "        \n",
    "    if run_status == 'PARSE_ERROR':\n",
    "        op_target_dict[operator][target_node][0] += 1\n",
    "        operators_dict[operator][0] += 1\n",
    "        # op_target_dict[operator][target_node][3] += 1\n",
    "        \n",
    "    elif run_status == 'SUCCESS':\n",
    "        op_target_dict[operator][target_node][1] += 1\n",
    "        operators_dict[operator][1] += 1\n",
    "        \n",
    "        fitness = line[5]\n",
    "        previous_fitness = line[6]\n",
    "        run_info = line[12]\n",
    "        previous_run_info = line[13]\n",
    "        \n",
    "        if fitness < previous_fitness: # better fitness\n",
    "            op_target_dict[operator][target_node][2] += 1\n",
    "            operators_dict[operator][2] += 1\n",
    "        elif fitness > previous_fitness: # worse fitness\n",
    "            op_target_dict[operator][target_node][3] += 1\n",
    "            operators_dict[operator][3] += 1\n",
    "        else: # same fitness\n",
    "            op_target_dict[operator][target_node][4] += 1\n",
    "            operators_dict[operator][4] += 1\n",
    "            if run_info == previous_run_info: # same fitness to run info level\n",
    "                op_target_dict[operator][target_node][5] += 1\n",
    "                operators_dict[operator][5] += 1"
   ]
  },
  {
   "cell_type": "code",
   "execution_count": 144,
   "metadata": {
    "scrolled": true
   },
   "outputs": [],
   "source": [
    "# for key, value in operators_dict.items():\n",
    "#     iter_num = value[0] + value[1]\n",
    "#     print(key, iter_num, make_percent(iter_num / len(records_list)), value)"
   ]
  },
  {
   "cell_type": "code",
   "execution_count": 16,
   "metadata": {},
   "outputs": [
    {
     "name": "stdout",
     "output_type": "stream",
     "text": [
      "StmtInsertion,81110,71.31%,28.69%,0.66%,5.02%,23.02%,10.51%\n",
      "StmtReplacement,74303,77.16%,22.84%,1.49%,8.43%,12.93%,6.34%\n",
      "StmtDeletion,7189,52.19%,47.81%,3.94%,20.18%,23.69%,9.53%\n",
      "ComparisonOperator,5329,10.85%,89.15%,13.57%,36.16%,39.43%,17.88%\n"
     ]
    }
   ],
   "source": [
    "for key, value in operators_dict.items():\n",
    "    iter_num = value[0] + value[1]\n",
    "    value_percent = [make_percent(el / iter_num) for el in value]\n",
    "    print(f\"{key},{iter_num},{value_percent[0]},{value_percent[1]},{value_percent[2]},{value_percent[3]},{value_percent[4]},{value_percent[5]}\")"
   ]
  },
  {
   "cell_type": "code",
   "execution_count": 123,
   "metadata": {},
   "outputs": [],
   "source": [
    "# for operator in op_target_dict.keys():\n",
    "#     for node, stats in op_target_dict[operator].items():\n",
    "#         print(f\"{operator} - {node} - {stats}\")\n",
    "#     print(\"\\n\")"
   ]
  },
  {
   "cell_type": "code",
   "execution_count": 129,
   "metadata": {},
   "outputs": [
    {
     "name": "stdout",
     "output_type": "stream",
     "text": [
      "StmtInsertion,expr_stmt,21809,59.24%,40.76%,0.75%,7.64%,32.37%,14.14%\n",
      "StmtInsertion,decl_stmt,19413,86.98%,13.02%,0.04%,2.2%,10.78%,5.16%\n",
      "StmtInsertion,if,13325,70.46%,29.54%,1.05%,5.57%,22.92%,10.76%\n",
      "StmtInsertion,for,8695,75.41%,24.59%,0.4%,4.97%,19.22%,9.59%\n",
      "StmtInsertion,return,16072,68.2%,31.8%,1.14%,3.19%,27.47%,12.49%\n",
      "StmtInsertion,while,1633,63.14%,36.86%,0.24%,17.88%,18.74%,7.96%\n",
      "StmtInsertion,continue,163,57.06%,42.94%,0.0%,0.0%,42.94%,20.86%\n",
      "StmtReplacement,decl_stmt,17841,96.86%,3.14%,0.0%,0.01%,3.14%,2.56%\n",
      "StmtReplacement,for,8044,78.17%,21.83%,1.48%,8.47%,11.88%,6.2%\n",
      "StmtReplacement,expr_stmt,20020,62.1%,37.9%,2.11%,14.05%,21.74%,9.33%\n",
      "StmtReplacement,if,12293,79.98%,20.02%,2.17%,8.18%,9.66%,4.99%\n",
      "StmtReplacement,return,14526,71.78%,28.22%,2.03%,9.99%,16.2%,8.21%\n",
      "StmtReplacement,while,1436,69.15%,30.85%,0.28%,21.66%,8.91%,3.34%\n",
      "StmtReplacement,continue,143,53.85%,46.15%,0.0%,0.0%,46.15%,22.38%\n",
      "StmtDeletion,expr_stmt,1645,11.0%,89.0%,5.17%,38.97%,44.86%,16.53%\n",
      "StmtDeletion,decl_stmt,1615,96.84%,3.16%,0.0%,0.0%,3.16%,2.41%\n",
      "StmtDeletion,if,1342,44.04%,55.96%,10.21%,20.94%,24.81%,10.21%\n",
      "StmtDeletion,for,700,0.0%,100.0%,6.86%,48.0%,45.14%,16.0%\n",
      "StmtDeletion,return,1733,77.26%,22.74%,0.58%,9.75%,12.41%,6.52%\n",
      "StmtDeletion,while,150,51.33%,48.67%,2.0%,16.0%,30.67%,7.33%\n",
      "StmtDeletion,continue,4,0.0%,100.0%,0.0%,0.0%,100.0%,25.0%\n",
      "ComparisonOperator,<,1901,4.79%,95.21%,8.05%,48.82%,38.35%,18.57%\n",
      "ComparisonOperator,==,2276,21.27%,78.73%,9.84%,25.18%,43.72%,20.69%\n",
      "ComparisonOperator,>,355,0.85%,99.15%,1.97%,56.06%,41.13%,18.87%\n",
      "ComparisonOperator,<=,147,0.0%,100.0%,78.91%,4.08%,17.01%,9.52%\n",
      "ComparisonOperator,>=,493,0.0%,100.0%,43.41%,29.82%,26.77%,4.67%\n",
      "ComparisonOperator,!=,157,0.0%,100.0%,5.73%,47.13%,47.13%,15.92%\n"
     ]
    }
   ],
   "source": [
    "for operator in op_target_dict.keys():\n",
    "    for node, stats in op_target_dict[operator].items():\n",
    "        iter_num = stats[0] + stats[1]\n",
    "        stats_percent = [make_percent(el / iter_num) for el in stats]\n",
    "        print(f\"{operator},{node},{iter_num},\" ,end=\"\")\n",
    "        print(f\"{stats_percent[0]},{stats_percent[1]},{stats_percent[2]},{stats_percent[3]},{stats_percent[4]},{stats_percent[5]}\")"
   ]
  },
  {
   "cell_type": "markdown",
   "metadata": {},
   "source": [
    "# Aggregating data: operator x target node x ingredient node"
   ]
  },
  {
   "cell_type": "code",
   "execution_count": 130,
   "metadata": {},
   "outputs": [],
   "source": [
    "op_target_ingredient_dict = collections.defaultdict(dict)\n",
    "\n",
    "\n",
    "for line in records_list:\n",
    "    run_status = line[1]\n",
    "    operator = line[9]\n",
    "    target_node = line[10]\n",
    "    ingredient_node = line[11]\n",
    "    \n",
    "    if operator != \"ComparisonOperator\":\n",
    "        target_node = line[10].split(\"/\")[-1][:-3]\n",
    "        ingredient_node = line[11].split(\"/\")[-1][:-3]\n",
    "    \n",
    "    if not target_node in op_target_ingredient_dict[operator].keys():\n",
    "        op_target_ingredient_dict[operator][target_node] = dict()\n",
    "   \n",
    "    if not ingredient_node in op_target_ingredient_dict[operator][target_node].keys():\n",
    "        op_target_ingredient_dict[operator][target_node][ingredient_node] = [0, 0, 0, 0, 0, 0]\n",
    "        \n",
    "    if run_status == 'PARSE_ERROR':\n",
    "        op_target_ingredient_dict[operator][target_node][ingredient_node][0] += 1\n",
    "        \n",
    "    elif run_status == 'SUCCESS':\n",
    "        op_target_ingredient_dict[operator][target_node][ingredient_node][1] += 1\n",
    "        \n",
    "        fitness = line[5]\n",
    "        previous_fitness = line[6]\n",
    "        run_info = line[12]\n",
    "        previous_run_info = line[13]\n",
    "        \n",
    "        if fitness < previous_fitness: # better fitness\n",
    "            op_target_ingredient_dict[operator][target_node][ingredient_node][2] += 1\n",
    "        elif fitness > previous_fitness: # worse fitness\n",
    "            op_target_ingredient_dict[operator][target_node][ingredient_node][3] += 1\n",
    "        else: # same fitness\n",
    "            op_target_ingredient_dict[operator][target_node][ingredient_node][4] += 1\n",
    "            if run_info == previous_run_info: # same fitness to run info level\n",
    "                op_target_ingredient_dict[operator][target_node][ingredient_node][5] += 1"
   ]
  },
  {
   "cell_type": "code",
   "execution_count": 124,
   "metadata": {
    "scrolled": false
   },
   "outputs": [],
   "source": [
    "# for operator in op_target_dict.keys():\n",
    "#     if operator != \"StmtDeletion\" and operator != \"ComparisonOperator\":\n",
    "#         for target_node in op_target_ingredient_dict[operator].keys():\n",
    "#             for ingredient_node, stats in op_target_ingredient_dict[operator][target_node].items():\n",
    "#                 print(f\"{operator} - {target_node} - {ingredient_node} - {stats}\")\n",
    "\n",
    "#             print(\"\\n\")"
   ]
  },
  {
   "cell_type": "code",
   "execution_count": 134,
   "metadata": {
    "scrolled": false
   },
   "outputs": [
    {
     "name": "stdout",
     "output_type": "stream",
     "text": [
      "StmtInsertion,expr_stmt,for,2535,77.51%,22.49%,0.36%,2.01%,20.12%,9.86%\n",
      "StmtInsertion,expr_stmt,expr_stmt,7298,29.01%,70.99%,2.0%,19.03%,49.96%,19.36%\n",
      "StmtInsertion,expr_stmt,decl_stmt,5616,81.32%,18.68%,0.0%,0.46%,18.22%,8.8%\n",
      "StmtInsertion,expr_stmt,return,2915,91.66%,8.34%,0.0%,0.0%,8.34%,7.0%\n",
      "StmtInsertion,expr_stmt,if,2867,45.03%,54.97%,0.21%,4.95%,49.81%,22.92%\n",
      "StmtInsertion,expr_stmt,while,530,49.25%,50.75%,0.38%,10.94%,39.43%,12.26%\n",
      "StmtInsertion,expr_stmt,continue,48,97.92%,2.08%,0.0%,0.0%,2.08%,0.0%\n",
      "StmtInsertion,decl_stmt,decl_stmt,5108,89.7%,10.3%,0.0%,0.49%,9.81%,4.84%\n",
      "StmtInsertion,decl_stmt,expr_stmt,5558,83.75%,16.25%,0.11%,5.78%,10.36%,4.17%\n",
      "StmtInsertion,decl_stmt,for,2208,88.59%,11.41%,0.05%,2.13%,9.24%,4.85%\n",
      "StmtInsertion,decl_stmt,if,2881,75.43%,24.57%,0.0%,0.07%,24.51%,11.56%\n",
      "StmtInsertion,decl_stmt,return,3224,97.46%,2.54%,0.0%,0.0%,2.54%,2.23%\n",
      "StmtInsertion,decl_stmt,while,383,85.38%,14.62%,0.0%,8.36%,6.27%,2.61%\n",
      "StmtInsertion,decl_stmt,continue,51,100.0%,0.0%,0.0%,0.0%,0.0%,0.0%\n",
      "StmtInsertion,if,decl_stmt,2728,87.87%,12.13%,0.0%,0.0%,12.13%,6.12%\n",
      "StmtInsertion,if,return,3540,97.18%,2.82%,0.0%,0.0%,2.82%,2.54%\n",
      "StmtInsertion,if,if,2845,29.38%,70.62%,0.88%,4.89%,64.85%,28.15%\n",
      "StmtInsertion,if,expr_stmt,2833,54.15%,45.85%,3.99%,20.19%,21.67%,10.02%\n",
      "StmtInsertion,if,for,1116,86.38%,13.62%,0.18%,0.9%,12.54%,7.26%\n",
      "StmtInsertion,if,while,239,81.17%,18.83%,0.0%,8.79%,10.04%,4.6%\n",
      "StmtInsertion,if,continue,24,100.0%,0.0%,0.0%,0.0%,0.0%,0.0%\n",
      "StmtInsertion,for,expr_stmt,2506,74.86%,25.14%,1.12%,7.06%,16.96%,8.46%\n",
      "StmtInsertion,for,for,1498,40.32%,59.68%,0.47%,16.15%,43.06%,18.29%\n",
      "StmtInsertion,for,return,1285,94.4%,5.6%,0.0%,0.0%,5.6%,4.9%\n",
      "StmtInsertion,for,if,1140,76.05%,23.95%,0.0%,1.14%,22.81%,12.02%\n",
      "StmtInsertion,for,decl_stmt,2169,88.84%,11.16%,0.0%,0.0%,11.16%,6.64%\n",
      "StmtInsertion,for,while,84,67.86%,32.14%,0.0%,0.0%,32.14%,4.76%\n",
      "StmtInsertion,for,continue,13,100.0%,0.0%,0.0%,0.0%,0.0%,0.0%\n",
      "StmtInsertion,return,for,1283,46.38%,53.62%,1.09%,12.94%,39.59%,15.59%\n",
      "StmtInsertion,return,decl_stmt,3250,62.22%,37.78%,4.52%,1.02%,32.25%,13.38%\n",
      "StmtInsertion,return,return,4906,94.66%,5.34%,0.0%,0.02%,5.32%,4.32%\n",
      "StmtInsertion,return,expr_stmt,2870,58.64%,41.36%,0.77%,8.26%,32.33%,12.86%\n",
      "StmtInsertion,return,if,3530,52.72%,47.28%,0.03%,1.84%,45.41%,21.22%\n",
      "StmtInsertion,return,while,210,63.33%,36.67%,0.0%,4.76%,31.9%,20.48%\n",
      "StmtInsertion,return,continue,23,100.0%,0.0%,0.0%,0.0%,0.0%,0.0%\n",
      "StmtInsertion,while,decl_stmt,402,85.57%,14.43%,0.0%,0.0%,14.43%,4.23%\n",
      "StmtInsertion,while,return,227,94.27%,5.73%,0.0%,0.0%,5.73%,4.85%\n",
      "StmtInsertion,while,expr_stmt,545,48.62%,51.38%,0.73%,37.61%,13.03%,7.89%\n",
      "StmtInsertion,while,if,205,42.93%,57.07%,0.0%,25.85%,31.22%,16.1%\n",
      "StmtInsertion,while,while,140,50.71%,49.29%,0.0%,0.0%,49.29%,17.14%\n",
      "StmtInsertion,while,for,105,38.1%,61.9%,0.0%,32.38%,29.52%,1.9%\n",
      "StmtInsertion,while,continue,9,100.0%,0.0%,0.0%,0.0%,0.0%,0.0%\n",
      "StmtInsertion,continue,expr_stmt,54,31.48%,68.52%,0.0%,0.0%,68.52%,31.48%\n",
      "StmtInsertion,continue,return,22,86.36%,13.64%,0.0%,0.0%,13.64%,9.09%\n",
      "StmtInsertion,continue,for,13,100.0%,0.0%,0.0%,0.0%,0.0%,0.0%\n",
      "StmtInsertion,continue,if,14,7.14%,92.86%,0.0%,0.0%,92.86%,50.0%\n",
      "StmtInsertion,continue,decl_stmt,48,64.58%,35.42%,0.0%,0.0%,35.42%,16.67%\n",
      "StmtInsertion,continue,while,7,100.0%,0.0%,0.0%,0.0%,0.0%,0.0%\n",
      "StmtInsertion,continue,continue,5,100.0%,0.0%,0.0%,0.0%,0.0%,0.0%\n",
      "StmtReplacement,decl_stmt,decl_stmt,3588,95.96%,4.04%,0.0%,0.0%,4.04%,2.79%\n",
      "StmtReplacement,decl_stmt,if,2831,97.28%,2.72%,0.0%,0.0%,2.72%,2.23%\n",
      "StmtReplacement,decl_stmt,expr_stmt,5565,97.27%,2.73%,0.0%,0.02%,2.71%,2.43%\n",
      "StmtReplacement,decl_stmt,return,3187,97.18%,2.82%,0.0%,0.0%,2.82%,2.2%\n",
      "StmtReplacement,decl_stmt,for,2198,95.63%,4.37%,0.0%,0.0%,4.37%,4.0%\n",
      "StmtReplacement,decl_stmt,while,422,99.76%,0.24%,0.0%,0.0%,0.24%,0.24%\n",
      "StmtReplacement,decl_stmt,continue,50,100.0%,0.0%,0.0%,0.0%,0.0%,0.0%\n",
      "StmtReplacement,for,expr_stmt,2450,75.02%,24.98%,1.67%,12.29%,11.02%,5.47%\n",
      "StmtReplacement,for,if,1098,75.5%,24.5%,2.91%,7.83%,13.75%,8.56%\n",
      "StmtReplacement,for,decl_stmt,2201,78.96%,21.04%,1.32%,7.22%,12.49%,6.22%\n",
      "StmtReplacement,for,for,838,77.45%,22.55%,0.36%,8.47%,13.72%,6.8%\n",
      "StmtReplacement,for,return,1333,86.8%,13.2%,1.05%,1.73%,10.43%,5.7%\n",
      "StmtReplacement,for,while,114,62.28%,37.72%,0.0%,35.96%,1.75%,0.88%\n",
      "StmtReplacement,for,continue,10,60.0%,40.0%,0.0%,0.0%,40.0%,0.0%\n",
      "StmtReplacement,expr_stmt,decl_stmt,5539,82.02%,17.98%,0.32%,4.03%,13.63%,6.82%\n",
      "StmtReplacement,expr_stmt,if,2853,53.31%,46.69%,1.96%,14.9%,29.83%,13.49%\n",
      "StmtReplacement,expr_stmt,expr_stmt,5607,42.68%,57.32%,4.28%,26.22%,26.82%,9.58%\n",
      "StmtReplacement,expr_stmt,return,2934,57.91%,42.09%,2.32%,13.8%,25.97%,11.08%\n",
      "StmtReplacement,expr_stmt,for,2499,78.59%,21.41%,1.6%,6.6%,13.21%,8.44%\n",
      "StmtReplacement,expr_stmt,while,546,53.85%,46.15%,0.18%,21.25%,24.73%,5.31%\n",
      "StmtReplacement,expr_stmt,continue,42,42.86%,57.14%,0.0%,19.05%,38.1%,4.76%\n",
      "StmtReplacement,if,return,3540,84.49%,15.51%,1.67%,6.75%,7.09%,4.01%\n",
      "StmtReplacement,if,decl_stmt,2884,85.16%,14.84%,1.39%,4.44%,9.02%,4.47%\n",
      "StmtReplacement,if,for,1165,91.93%,8.07%,1.55%,0.86%,5.67%,4.55%\n",
      "StmtReplacement,if,expr_stmt,2890,76.89%,23.11%,0.93%,13.25%,8.93%,4.98%\n",
      "StmtReplacement,if,if,1604,58.54%,41.46%,7.67%,14.59%,19.2%,7.61%\n",
      "StmtReplacement,if,while,189,72.49%,27.51%,0.0%,4.23%,23.28%,11.64%\n",
      "StmtReplacement,if,continue,21,76.19%,23.81%,0.0%,19.05%,4.76%,4.76%\n",
      "StmtReplacement,return,decl_stmt,3329,86.45%,13.55%,0.0%,3.94%,9.61%,5.26%\n",
      "StmtReplacement,return,expr_stmt,2962,85.04%,14.96%,0.68%,7.66%,6.62%,4.25%\n",
      "StmtReplacement,return,for,1308,88.91%,11.09%,0.15%,3.59%,7.34%,5.28%\n",
      "StmtReplacement,return,if,3475,82.56%,17.44%,0.12%,3.05%,14.27%,7.83%\n",
      "StmtReplacement,return,return,3211,27.56%,72.44%,8.38%,28.62%,35.44%,15.42%\n",
      "StmtReplacement,return,while,222,45.5%,54.5%,0.0%,6.31%,48.2%,25.23%\n",
      "StmtReplacement,return,continue,19,63.16%,36.84%,0.0%,36.84%,0.0%,0.0%\n",
      "StmtReplacement,while,if,197,80.2%,19.8%,0.0%,16.75%,3.05%,3.05%\n",
      "StmtReplacement,while,decl_stmt,378,83.6%,16.4%,0.0%,4.5%,11.9%,2.65%\n",
      "StmtReplacement,while,expr_stmt,563,68.74%,31.26%,0.71%,27.89%,2.66%,2.31%\n",
      "StmtReplacement,while,return,198,44.44%,55.56%,0.0%,42.93%,12.63%,4.55%\n",
      "StmtReplacement,while,for,96,41.67%,58.33%,0.0%,19.79%,38.54%,10.42%\n",
      "StmtReplacement,while,continue,4,100.0%,0.0%,0.0%,0.0%,0.0%,0.0%\n",
      "StmtReplacement,continue,expr_stmt,48,37.5%,62.5%,0.0%,0.0%,62.5%,22.92%\n",
      "StmtReplacement,continue,if,21,23.81%,76.19%,0.0%,0.0%,76.19%,52.38%\n",
      "StmtReplacement,continue,decl_stmt,42,88.1%,11.9%,0.0%,0.0%,11.9%,9.52%\n",
      "StmtReplacement,continue,return,18,16.67%,83.33%,0.0%,0.0%,83.33%,33.33%\n",
      "StmtReplacement,continue,while,6,100.0%,0.0%,0.0%,0.0%,0.0%,0.0%\n",
      "StmtReplacement,continue,for,8,100.0%,0.0%,0.0%,0.0%,0.0%,0.0%\n",
      "StmtDeletion,expr_stmt,N,1645,11.0%,89.0%,5.17%,38.97%,44.86%,16.53%\n",
      "StmtDeletion,decl_stmt,N,1615,96.84%,3.16%,0.0%,0.0%,3.16%,2.41%\n",
      "StmtDeletion,if,N,1342,44.04%,55.96%,10.21%,20.94%,24.81%,10.21%\n",
      "StmtDeletion,for,N,700,0.0%,100.0%,6.86%,48.0%,45.14%,16.0%\n",
      "StmtDeletion,return,N,1733,77.26%,22.74%,0.58%,9.75%,12.41%,6.52%\n",
      "StmtDeletion,while,N,150,51.33%,48.67%,2.0%,16.0%,30.67%,7.33%\n",
      "StmtDeletion,continue,N,4,0.0%,100.0%,0.0%,0.0%,100.0%,25.0%\n",
      "ComparisonOperator,<,!=,379,7.39%,92.61%,8.18%,19.26%,65.17%,29.29%\n",
      "ComparisonOperator,<,>,368,5.43%,94.57%,8.15%,57.07%,29.35%,14.4%\n",
      "ComparisonOperator,<,<=,357,0.0%,100.0%,9.52%,50.98%,39.5%,19.33%\n",
      "ComparisonOperator,<,==,409,0.0%,100.0%,6.11%,61.37%,32.52%,15.89%\n",
      "ComparisonOperator,<,>=,388,11.08%,88.92%,8.51%,54.64%,25.77%,14.18%\n",
      "ComparisonOperator,==,<,469,29.0%,71.0%,3.84%,26.87%,40.3%,19.83%\n",
      "ComparisonOperator,==,>=,455,23.74%,76.26%,9.45%,17.58%,49.23%,24.62%\n",
      "ComparisonOperator,==,<=,454,25.55%,74.45%,1.1%,23.35%,50.0%,24.01%\n",
      "ComparisonOperator,==,!=,427,0.23%,99.77%,10.54%,49.88%,39.34%,18.5%\n",
      "ComparisonOperator,==,>,471,26.11%,73.89%,23.99%,10.19%,39.7%,16.56%\n",
      "ComparisonOperator,>,>=,74,4.05%,95.95%,9.46%,62.16%,24.32%,9.46%\n",
      "ComparisonOperator,>,<=,63,0.0%,100.0%,0.0%,84.13%,15.87%,4.76%\n",
      "ComparisonOperator,>,<,69,0.0%,100.0%,0.0%,56.52%,43.48%,21.74%\n",
      "ComparisonOperator,>,!=,81,0.0%,100.0%,0.0%,0.0%,100.0%,45.68%\n",
      "ComparisonOperator,>,==,68,0.0%,100.0%,0.0%,89.71%,10.29%,7.35%\n",
      "ComparisonOperator,<=,<,30,0.0%,100.0%,80.0%,0.0%,20.0%,6.67%\n",
      "ComparisonOperator,<=,>,29,0.0%,100.0%,72.41%,3.45%,24.14%,17.24%\n",
      "ComparisonOperator,<=,!=,30,0.0%,100.0%,80.0%,3.33%,16.67%,3.33%\n",
      "ComparisonOperator,<=,==,34,0.0%,100.0%,85.29%,5.88%,8.82%,5.88%\n",
      "ComparisonOperator,<=,>=,24,0.0%,100.0%,75.0%,8.33%,16.67%,16.67%\n",
      "ComparisonOperator,>=,<,94,0.0%,100.0%,77.66%,21.28%,1.06%,1.06%\n",
      "ComparisonOperator,>=,>,105,0.0%,100.0%,0.0%,6.67%,93.33%,14.29%\n",
      "ComparisonOperator,>=,==,91,0.0%,100.0%,64.84%,17.58%,17.58%,2.2%\n",
      "ComparisonOperator,>=,<=,103,0.0%,100.0%,70.87%,27.18%,1.94%,0.97%\n",
      "ComparisonOperator,>=,!=,100,0.0%,100.0%,9.0%,76.0%,15.0%,4.0%\n",
      "ComparisonOperator,!=,>,33,0.0%,100.0%,0.0%,33.33%,66.67%,18.18%\n",
      "ComparisonOperator,!=,==,38,0.0%,100.0%,7.89%,55.26%,36.84%,13.16%\n",
      "ComparisonOperator,!=,<,23,0.0%,100.0%,8.7%,17.39%,73.91%,21.74%\n",
      "ComparisonOperator,!=,<=,29,0.0%,100.0%,10.34%,62.07%,27.59%,13.79%\n",
      "ComparisonOperator,!=,>=,34,0.0%,100.0%,2.94%,58.82%,38.24%,14.71%\n"
     ]
    }
   ],
   "source": [
    "for operator in op_target_dict.keys():\n",
    "    for target_node in op_target_ingredient_dict[operator].keys():\n",
    "        for ingredient_node, stats in op_target_ingredient_dict[operator][target_node].items():\n",
    "            iter_num = stats[0] + stats[1]\n",
    "            stats_percent = [make_percent(el / iter_num) for el in stats]\n",
    "            print(f\"{operator},{target_node},{ingredient_node},{iter_num},\" ,end=\"\")\n",
    "            print(f\"{stats_percent[0]},{stats_percent[1]},{stats_percent[2]},{stats_percent[3]},{stats_percent[4]},{stats_percent[5]}\")      "
   ]
  },
  {
   "cell_type": "code",
   "execution_count": 1,
   "metadata": {},
   "outputs": [],
   "source": [
    "comp_op_per_program_dict = {\n",
    "    'BFS': {'./while[1]/if[1]/operator_comp[1]': '=='},\n",
    "    'DFS': {'./if[2]/operator_comp[1]': '=='},\n",
    "    'DETECT_CYCLE': {\n",
    "        './while[1]/if[1]/operator_comp[1]': '==', \n",
    "        './while[1]/if[2]/operator_comp[1]': '=='\n",
    "    },\n",
    "    'FIND_IN_SORTED': {\n",
    "        './if[1]/operator_comp[1]': '==',\n",
    "        './if[2]/operator_comp[1]': '<', \n",
    "        './if[3]/operator_comp[1]': '>'\n",
    "    },\n",
    "    'FLATTEN': dict(),\n",
    "    'GET_FACTORS': {\n",
    "        './if[1]/operator_comp[1]': '==', \n",
    "        './for[1]/operator_comp[1]': '<', \n",
    "        './for[1]/if[1]/operator_comp[1]': '=='\n",
    "    },\n",
    "    'IS_VALID_PARENTHESIZATION': {\n",
    "        './for[1]/operator_comp[1]': '<', \n",
    "        './for[1]/if[2]/operator_comp[1]': '<'\n",
    "    },\n",
    "    'KHEAPSORT': dict(),\n",
    "    'KNAPSACK': {\n",
    "        './for[1]/operator_comp[1]': '<=', \n",
    "        './for[1]/if[1]/operator_comp[1]': '>=',\n",
    "        './for[1]/for[1]/operator_comp[1]': '<=', \n",
    "        './for[1]/for[1]/if[1]/operator_comp[1]': '==', \n",
    "        './for[1]/for[1]/if[1]/operator_comp[2]': '==', \n",
    "        './for[1]/for[1]/if[2]/operator_comp[1]': '<'\n",
    "    },\n",
    "    'KTH': {\n",
    "        './for[1]/if[1]/operator_comp[1]': '<',\n",
    "        './for[1]/if[2]/operator_comp[1]': '>', \n",
    "        './if[1]/operator_comp[1]': '<', \n",
    "        './if[2]/operator_comp[1]': '>='},\n",
    "    'LCS_LENGTH': {\n",
    "        './for[1]/operator_comp[1]': '<', \n",
    "        './for[1]/for[1]/operator_comp[1]': '<', \n",
    "        './for[2]/operator_comp[1]': '<', \n",
    "        './for[2]/for[1]/operator_comp[1]': '<', \n",
    "        './for[2]/for[1]/if[1]/operator_comp[1]': '==', \n",
    "        './if[1]/for[1]/operator_comp[1]': '<'\n",
    "    },\n",
    "    'LEVENSHTEIN': {'./if[2]/operator_comp[1]': '=='},\n",
    "    'LIS': {\n",
    "        './for[1]/for[1]/operator_comp[1]': '<', \n",
    "        './for[1]/for[1]/if[1]/operator_comp[1]': '<', \n",
    "        './for[1]/if[1]/operator_comp[1]': '==', \n",
    "        './for[1]/if[1]/operator_comp[2]': '<'\n",
    "    },\n",
    "    'LONGEST_COMMON_SUBSEQUENCE': {\n",
    "        './if[2]/operator_comp[1]': '==', \n",
    "        './return[1]/operator_comp[1]': '>='\n",
    "    },\n",
    "    'MAX_SUBLIST_SUM': dict(),\n",
    "    'MERGESORT': {\n",
    "        './while[1]/operator_comp[1]': '<', \n",
    "        './while[1]/operator_comp[2]': '<', \n",
    "        './while[1]/if[1]/operator_comp[1]': '<=', \n",
    "        './if[1]/operator_comp[1]': '=='\n",
    "    },\n",
    "    'NEXT_PALINDROME': {\n",
    "        './while[1]/operator_comp[1]': '<', \n",
    "        './while[1]/operator_comp[2]': '>=', \n",
    "        './while[1]/if[1]/operator_comp[1]': '==', \n",
    "        './while[1]/if[2]/operator_comp[1]': '!='\n",
    "    },\n",
    "    'NEXT_PERMUTATION': {\n",
    "        './for[1]/operator_comp[1]': '!=', \n",
    "        './for[1]/if[1]/operator_comp[1]': '<', \n",
    "        './for[1]/if[1]/for[1]/operator_comp[1]': '!=', \n",
    "        './for[1]/if[1]/for[1]/if[1]/operator_comp[1]': '<', \n",
    "        './for[1]/if[1]/for[1]/if[1]/for[1]/operator_comp[1]': '!='\n",
    "    },\n",
    "    'PASCAL': {\n",
    "        './for[1]/operator_comp[1]': '<', \n",
    "        './for[1]/for[1]/operator_comp[1]': '<', \n",
    "        './for[1]/for[1]/if[1]/operator_comp[1]': '>', \n",
    "        './for[1]/for[1]/if[2]/operator_comp[1]': '<'\n",
    "    },\n",
    "    'POWERSET': dict(),\n",
    "    'QUICKSORT': {\n",
    "        './for[1]/if[1]/operator_comp[1]': '<', \n",
    "        './for[1]/if[2]/operator_comp[1]': '>'\n",
    "    },\n",
    "    'SHORTEST_PATH_LENGTH': {\n",
    "        './while[1]/if[1]/operator_comp[1]': '==', \n",
    "        './while[1]/for[1]/if[2]/operator_comp[1]': '==', \n",
    "        './for[1]/if[1]/operator_comp[1]': '<'\n",
    "    },\n",
    "    'SHORTEST_PATH_LENGTHS': {\n",
    "        './for[1]/operator_comp[1]': '<', \n",
    "        './for[1]/for[1]/operator_comp[1]': '<', \n",
    "        './for[1]/for[1]/if[1]/operator_comp[1]': '==', \n",
    "        './for[2]/operator_comp[1]': '<', \n",
    "        './for[2]/for[1]/operator_comp[1]': '<', \n",
    "        './for[2]/for[1]/for[1]/operator_comp[1]': '<'\n",
    "    },\n",
    "    'SIEVE': {\n",
    "        './for[3]/expr_stmt[1]/operator_comp[1]': '>', \n",
    "        './for[4]/operator_comp[1]': '<'\n",
    "    },\n",
    "    'SUBSEQUENCES': {\n",
    "        './if[1]/operator_comp[1]': '==', \n",
    "        './for[1]/operator_comp[1]': '<'\n",
    "    },\n",
    "    'WRAP': {\n",
    "        './while[1]/operator_comp[1]': '>', \n",
    "        './while[1]/if[1]/operator_comp[1]': '=='\n",
    "    } \n",
    "}"
   ]
  }
 ],
 "metadata": {
  "kernelspec": {
   "display_name": "Python 3",
   "language": "python",
   "name": "python3"
  },
  "language_info": {
   "codemirror_mode": {
    "name": "ipython",
    "version": 3
   },
   "file_extension": ".py",
   "mimetype": "text/x-python",
   "name": "python",
   "nbconvert_exporter": "python",
   "pygments_lexer": "ipython3",
   "version": "3.8.5"
  }
 },
 "nbformat": 4,
 "nbformat_minor": 4
}

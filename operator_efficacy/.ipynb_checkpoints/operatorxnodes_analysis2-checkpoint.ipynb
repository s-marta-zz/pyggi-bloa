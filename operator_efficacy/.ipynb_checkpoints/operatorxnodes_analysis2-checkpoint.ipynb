{
 "cells": [
  {
   "cell_type": "code",
   "execution_count": 2,
   "metadata": {},
   "outputs": [],
   "source": [
    "import os\n",
    "import collections\n",
    "import re\n",
    "import pprint"
   ]
  },
  {
   "cell_type": "markdown",
   "metadata": {},
   "source": [
    "# Importing data"
   ]
  },
  {
   "cell_type": "code",
   "execution_count": 57,
   "metadata": {},
   "outputs": [],
   "source": [
    "FILES = [file for file in os.listdir(\"logs_uniform_run2\") if not \"QuixBugs\" in file]"
   ]
  },
  {
   "cell_type": "code",
   "execution_count": 21,
   "metadata": {},
   "outputs": [
    {
     "data": {
      "text/plain": [
       "26"
      ]
     },
     "execution_count": 21,
     "metadata": {},
     "output_type": "execute_result"
    }
   ],
   "source": [
    "len(FILES)"
   ]
  },
  {
   "cell_type": "code",
   "execution_count": 28,
   "metadata": {},
   "outputs": [],
   "source": [
    "raw_records_list = list()\n",
    "\n",
    "for file in FILES:\n",
    "    f = open(f\"logs_uniform_run2/{file}\", \"r\")\n",
    "    for raw_line in f:\n",
    "        line = raw_line.strip().split(\";\")\n",
    "        line.append(file[:-4])\n",
    "        raw_records_list.append(line)"
   ]
  },
  {
   "cell_type": "code",
   "execution_count": 6,
   "metadata": {},
   "outputs": [
    {
     "data": {
      "text/plain": [
       "235571"
      ]
     },
     "execution_count": 6,
     "metadata": {},
     "output_type": "execute_result"
    }
   ],
   "source": [
    "len(raw_records_list)"
   ]
  },
  {
   "cell_type": "code",
   "execution_count": 35,
   "metadata": {},
   "outputs": [],
   "source": [
    "for line in raw_records_list:\n",
    "    \n",
    "    if line[12] != \"None\":\n",
    "        line[12] = line[12].split(\", \")\n",
    "        line[12][0] = line[12][0][1:]\n",
    "        line[12][-1] = line[12][-1][:-2]\n",
    "        line[12] = set(line[12])\n",
    "        \n",
    "    if line[13] != \"None\":\n",
    "        line[13] = line[13].split(\", \")\n",
    "        line[13][0] = line[13][0][1:]\n",
    "        line[13][-1] = line[13][-1][:-2]\n",
    "        line[13] = set(line[13])\n",
    "        \n",
    "    if \"Comp\" in line[9]:\n",
    "        line[11] = comp_op_per_program_dict[line[14]][line[10]]"
   ]
  },
  {
   "cell_type": "code",
   "execution_count": 36,
   "metadata": {},
   "outputs": [],
   "source": [
    "records_list = [\n",
    "    line for line in raw_records_list \n",
    "    if \n",
    "    not \"EditDeletion\" in line[9]\n",
    "    and\n",
    "    not (line[9] == 'StmtReplacement' and line[10] == line[11])\n",
    "    and\n",
    "]"
   ]
  },
  {
   "cell_type": "code",
   "execution_count": 37,
   "metadata": {},
   "outputs": [
    {
     "data": {
      "text/plain": [
       "174650"
      ]
     },
     "execution_count": 37,
     "metadata": {},
     "output_type": "execute_result"
    }
   ],
   "source": [
    "len(records_list)"
   ]
  },
  {
   "cell_type": "code",
   "execution_count": 66,
   "metadata": {},
   "outputs": [
    {
     "data": {
      "text/plain": [
       "['118',\n",
       " 'SUCCESS',\n",
       " 'SUCCESS',\n",
       " '0',\n",
       " '0',\n",
       " '28.0',\n",
       " '13.0',\n",
       " '1',\n",
       " '0',\n",
       " 'ComparisonOperator',\n",
       " './for[1]/for[1]/operator_comp[1]',\n",
       " '==',\n",
       " {\"'test_0(java_testcases.junit.LIS_TEST): null'\",\n",
       "  \"'test_1(java_testcases.junit.LIS_TEST): null'\",\n",
       "  \"'test_10(java_testcases.junit.LIS_TEST): null'\",\n",
       "  \"'test_11(java_testcases.junit.LIS_TEST): null'\",\n",
       "  \"'test_12(java_testcases.junit.LIS_TEST): null'\",\n",
       "  \"'test_13(java_testcases.junit.LIS_TEST): null'\",\n",
       "  \"'test_14(java_testcases.junit.LIS_TEST): null'\",\n",
       "  \"'test_15(java_testcases.junit.LIS_TEST): null'\",\n",
       "  \"'test_16(java_testcases.junit.LIS_TEST): null'\",\n",
       "  \"'test_17(java_testcases.junit.LIS_TEST): null'\",\n",
       "  \"'test_18(java_testcases.junit.LIS_TEST): null'\",\n",
       "  \"'test_19(java_testcases.junit.LIS_TEST): null'\",\n",
       "  \"'test_2(java_testcases.junit.LIS_TEST): null'\",\n",
       "  \"'test_20(java_testcases.junit.LIS_TEST): null'\",\n",
       "  \"'test_21(java_testcases.junit.LIS_TEST): null'\",\n",
       "  \"'test_22(java_testcases.junit.LIS_TEST): null'\",\n",
       "  \"'test_23(java_testcases.junit.LIS_TEST): null'\",\n",
       "  \"'test_24(java_testcases.junit.LIS_TEST): null'\",\n",
       "  \"'test_25(java_testcases.junit.LIS_TEST): null'\",\n",
       "  \"'test_26(java_testcases.junit.LIS_TEST): null'\",\n",
       "  \"'test_27(java_testcases.junit.LIS_TEST): null'\",\n",
       "  \"'test_29(java_testcases.junit.LIS_TEST): null'\",\n",
       "  \"'test_3(java_testcases.junit.LIS_TEST): null'\",\n",
       "  \"'test_5(java_testcases.junit.LIS_TEST): null'\",\n",
       "  \"'test_6(java_testcases.junit.LIS_TEST): null\",\n",
       "  \"'test_7(java_testcases.junit.LIS_TEST): null'\",\n",
       "  \"'test_8(java_testcases.junit.LIS_TEST): null'\",\n",
       "  \"'test_9(java_testcases.junit.LIS_TEST): null'\"},\n",
       " {\"'test_0(java_testcases.junit.LIS_TEST): expected:<3> but was:<2>'\",\n",
       "  \"'test_1(java_testcases.junit.LIS_TEST): expected:<6> but was:<5>'\",\n",
       "  \"'test_12(java_testcases.junit.LIS_TEST): expected:<4> but was:<3>\",\n",
       "  \"'test_14(java_testcases.junit.LIS_TEST): expected:<5> but was:<4>'\",\n",
       "  \"'test_15(java_testcases.junit.LIS_TEST): expected:<6> but was:<5>'\",\n",
       "  \"'test_16(java_testcases.junit.LIS_TEST): expected:<6> but was:<5>'\",\n",
       "  \"'test_17(java_testcases.junit.LIS_TEST): expected:<3> but was:<2>'\",\n",
       "  \"'test_2(java_testcases.junit.LIS_TEST): expected:<3> but was:<1>'\",\n",
       "  \"'test_20(java_testcases.junit.LIS_TEST): expected:<5> but was:<4>'\",\n",
       "  \"'test_23(java_testcases.junit.LIS_TEST): expected:<4> but was:<3>'\",\n",
       "  \"'test_24(java_testcases.junit.LIS_TEST): expected:<3> but was:<2>'\",\n",
       "  \"'test_25(java_testcases.junit.LIS_TEST): expected:<3> but was:<2>'\",\n",
       "  \"'test_3(java_testcases.junit.LIS_TEST): expected:<4> but was:<3>'\"},\n",
       " 'LIS']"
      ]
     },
     "execution_count": 66,
     "metadata": {},
     "output_type": "execute_result"
    }
   ],
   "source": [
    "[el for el in records_list if \"Comp\" in el[9]][100]"
   ]
  },
  {
   "cell_type": "markdown",
   "metadata": {},
   "source": [
    "# Aggregating data: operator x target node"
   ]
  },
  {
   "cell_type": "code",
   "execution_count": 11,
   "metadata": {},
   "outputs": [],
   "source": [
    "def make_percent(num):\n",
    "    num = num * 100\n",
    "    num = round(num, 2)\n",
    "    \n",
    "    return str(num) + \"%\""
   ]
  },
  {
   "cell_type": "markdown",
   "metadata": {},
   "source": [
    "0 iter, 1 run status, 2 previous run status,\n",
    "\n",
    "3 return code, 4 previous return code,\n",
    "\n",
    "5 fitness, 6 previous fitness,\n",
    "\n",
    "7 patch length, 8 previous patch length,\n",
    "\n",
    "9 operator, 10 target, 11 ingredient,\n",
    "\n",
    "12 run info, 13 previous run info\n",
    "\n",
    "14 program name"
   ]
  },
  {
   "cell_type": "markdown",
   "metadata": {},
   "source": [
    "op_target_dict[operator] = {node_type: [not compile, compile, better fitness, worse fitness, same fitness, actually same fitness]}"
   ]
  },
  {
   "cell_type": "code",
   "execution_count": 12,
   "metadata": {},
   "outputs": [],
   "source": [
    "run_status_dict = collections.defaultdict(int)\n",
    "\n",
    "for line in records_list:\n",
    "    run_status_dict[line[1]] += 1"
   ]
  },
  {
   "cell_type": "code",
   "execution_count": 13,
   "metadata": {},
   "outputs": [
    {
     "data": {
      "text/plain": [
       "defaultdict(int, {'PARSE_ERROR': 122478, 'SUCCESS': 52172})"
      ]
     },
     "execution_count": 13,
     "metadata": {},
     "output_type": "execute_result"
    }
   ],
   "source": [
    "run_status_dict"
   ]
  },
  {
   "cell_type": "code",
   "execution_count": 14,
   "metadata": {},
   "outputs": [],
   "source": [
    "op_target_dict = collections.defaultdict(dict)\n",
    "\n",
    "operators_dict = collections.defaultdict(int)\n",
    "\n",
    "for line in records_list:\n",
    "    run_status = line[1]\n",
    "    operator = line[9]\n",
    "    target_node = line[10].split(\"/\")[-1][:-3]\n",
    "    \n",
    "    if not target_node in op_target_dict[operator].keys():\n",
    "        op_target_dict[operator][target_node] = [0, 0, 0, 0, 0, 0]\n",
    "        operators_dict[operator] = [0, 0, 0, 0, 0, 0]\n",
    "        \n",
    "    if run_status == 'PARSE_ERROR':\n",
    "        op_target_dict[operator][target_node][0] += 1\n",
    "        operators_dict[operator][0] += 1\n",
    "        # op_target_dict[operator][target_node][3] += 1\n",
    "        \n",
    "    elif run_status == 'SUCCESS':\n",
    "        op_target_dict[operator][target_node][1] += 1\n",
    "        operators_dict[operator][1] += 1\n",
    "        \n",
    "        fitness = line[5]\n",
    "        previous_fitness = line[6]\n",
    "        run_info = line[12]\n",
    "        previous_run_info = line[13]\n",
    "        \n",
    "        if fitness < previous_fitness: # better fitness\n",
    "            op_target_dict[operator][target_node][2] += 1\n",
    "            operators_dict[operator][2] += 1\n",
    "        elif fitness > previous_fitness: # worse fitness\n",
    "            op_target_dict[operator][target_node][3] += 1\n",
    "            operators_dict[operator][3] += 1\n",
    "        else: # same fitness\n",
    "            op_target_dict[operator][target_node][4] += 1\n",
    "            operators_dict[operator][4] += 1\n",
    "            if run_info == previous_run_info: # same fitness to run info level\n",
    "                op_target_dict[operator][target_node][5] += 1\n",
    "                operators_dict[operator][5] += 1"
   ]
  },
  {
   "cell_type": "code",
   "execution_count": 144,
   "metadata": {
    "scrolled": true
   },
   "outputs": [],
   "source": [
    "# for key, value in operators_dict.items():\n",
    "#     iter_num = value[0] + value[1]\n",
    "#     print(key, iter_num, make_percent(iter_num / len(records_list)), value)"
   ]
  },
  {
   "cell_type": "code",
   "execution_count": 15,
   "metadata": {},
   "outputs": [
    {
     "name": "stdout",
     "output_type": "stream",
     "text": [
      "StmtReplacement,48424,76.26%,23.74%,0.68%,11.1%,11.95%,5.36%\n",
      "ComparisonOperator,6564,9.05%,90.95%,11.35%,29.97%,49.63%,25.27%\n",
      "StmtInsertion,53454,69.72%,30.28%,0.32%,6.91%,23.04%,10.15%\n",
      "StmtDeletion,4937,53.92%,46.08%,1.82%,24.27%,19.99%,8.02%\n"
     ]
    }
   ],
   "source": [
    "for key, value in operators_dict.items():\n",
    "    iter_num = value[0] + value[1]\n",
    "    value_percent = [make_percent(el / iter_num) for el in value]\n",
    "    print(f\"{key},{iter_num},{value_percent[0]},{value_percent[1]},{value_percent[2]},{value_percent[3]},{value_percent[4]},{value_percent[5]}\")"
   ]
  },
  {
   "cell_type": "code",
   "execution_count": 123,
   "metadata": {},
   "outputs": [],
   "source": [
    "# for operator in op_target_dict.keys():\n",
    "#     for node, stats in op_target_dict[operator].items():\n",
    "#         print(f\"{operator} - {node} - {stats}\")\n",
    "#     print(\"\\n\")"
   ]
  },
  {
   "cell_type": "code",
   "execution_count": 16,
   "metadata": {},
   "outputs": [
    {
     "name": "stdout",
     "output_type": "stream",
     "text": [
      "StmtReplacement,decl_stmt,18507,96.14%,3.86%,0.0%,0.01%,3.86%,3.09%\n",
      "StmtReplacement,return,14785,72.04%,27.96%,2.0%,9.81%,16.15%,8.24%\n",
      "StmtReplacement,for,8044,78.17%,21.83%,1.48%,8.47%,11.88%,6.2%\n",
      "StmtReplacement,expr_stmt,21134,61.29%,38.71%,2.02%,13.34%,23.35%,10.46%\n",
      "StmtReplacement,if,12539,79.19%,20.81%,2.14%,8.07%,10.6%,5.67%\n",
      "StmtReplacement,while,1630,68.4%,31.6%,0.31%,19.51%,11.78%,5.77%\n",
      "StmtReplacement,continue,143,53.85%,46.15%,0.0%,0.0%,46.15%,22.38%\n",
      "ComparisonOperator,operator_comp,6564,9.05%,90.95%,11.35%,29.97%,49.63%,25.27%\n",
      "StmtInsertion,expr_stmt,23075,58.15%,41.85%,0.74%,7.22%,33.89%,15.21%\n",
      "StmtInsertion,decl_stmt,20158,86.36%,13.64%,0.06%,2.13%,11.44%,5.61%\n",
      "StmtInsertion,for,8695,75.41%,24.59%,0.4%,4.97%,19.22%,9.59%\n",
      "StmtInsertion,if,13571,69.74%,30.26%,1.03%,5.5%,23.73%,11.33%\n",
      "StmtInsertion,return,16333,68.13%,31.87%,1.13%,3.13%,27.61%,12.55%\n",
      "StmtInsertion,while,1882,62.54%,37.46%,0.37%,15.78%,21.31%,10.47%\n",
      "StmtInsertion,continue,163,57.06%,42.94%,0.0%,0.0%,42.94%,20.86%\n",
      "StmtDeletion,expr_stmt,1752,11.3%,88.7%,4.85%,36.76%,47.09%,17.35%\n",
      "StmtDeletion,if,1367,43.23%,56.77%,10.02%,20.85%,25.9%,10.68%\n",
      "StmtDeletion,decl_stmt,1680,96.01%,3.99%,0.0%,0.0%,3.99%,3.04%\n",
      "StmtDeletion,for,700,0.0%,100.0%,6.86%,48.0%,45.14%,16.0%\n",
      "StmtDeletion,return,1749,77.42%,22.58%,0.57%,9.66%,12.35%,6.52%\n",
      "StmtDeletion,while,175,44.0%,56.0%,1.71%,21.14%,33.14%,8.0%\n",
      "StmtDeletion,continue,4,0.0%,100.0%,0.0%,0.0%,100.0%,25.0%\n"
     ]
    }
   ],
   "source": [
    "for operator in op_target_dict.keys():\n",
    "    for node, stats in op_target_dict[operator].items():\n",
    "        iter_num = stats[0] + stats[1]\n",
    "        stats_percent = [make_percent(el / iter_num) for el in stats]\n",
    "        print(f\"{operator},{node},{iter_num},\" ,end=\"\")\n",
    "        print(f\"{stats_percent[0]},{stats_percent[1]},{stats_percent[2]},{stats_percent[3]},{stats_percent[4]},{stats_percent[5]}\")"
   ]
  },
  {
   "cell_type": "markdown",
   "metadata": {},
   "source": [
    "# Aggregating data: operator x target node x ingredient node"
   ]
  },
  {
   "cell_type": "code",
   "execution_count": 17,
   "metadata": {},
   "outputs": [],
   "source": [
    "op_target_ingredient_dict = collections.defaultdict(dict)\n",
    "\n",
    "\n",
    "for line in records_list:\n",
    "    run_status = line[1]\n",
    "    operator = line[9]\n",
    "    target_node = line[10].split(\"/\")[-1][:-3]\n",
    "    ingredient_node = line[11].split(\"/\")[-1][:-3]\n",
    "    \n",
    "    if not target_node in op_target_ingredient_dict[operator].keys():\n",
    "        op_target_ingredient_dict[operator][target_node] = dict()\n",
    "   \n",
    "    if not ingredient_node in op_target_ingredient_dict[operator][target_node].keys():\n",
    "        op_target_ingredient_dict[operator][target_node][ingredient_node] = [0, 0, 0, 0, 0, 0]\n",
    "        \n",
    "    if run_status == 'PARSE_ERROR':\n",
    "        op_target_ingredient_dict[operator][target_node][ingredient_node][0] += 1\n",
    "        \n",
    "    elif run_status == 'SUCCESS':\n",
    "        op_target_ingredient_dict[operator][target_node][ingredient_node][1] += 1\n",
    "        \n",
    "        fitness = line[5]\n",
    "        previous_fitness = line[6]\n",
    "        run_info = line[12]\n",
    "        previous_run_info = line[13]\n",
    "        \n",
    "        if fitness < previous_fitness: # better fitness\n",
    "            op_target_ingredient_dict[operator][target_node][ingredient_node][2] += 1\n",
    "        elif fitness > previous_fitness: # worse fitness\n",
    "            op_target_ingredient_dict[operator][target_node][ingredient_node][3] += 1\n",
    "        else: # same fitness\n",
    "            op_target_ingredient_dict[operator][target_node][ingredient_node][4] += 1\n",
    "            if run_info == previous_run_info: # same fitness to run info level\n",
    "                op_target_ingredient_dict[operator][target_node][ingredient_node][5] += 1"
   ]
  },
  {
   "cell_type": "code",
   "execution_count": 124,
   "metadata": {
    "scrolled": false
   },
   "outputs": [],
   "source": [
    "# for operator in op_target_dict.keys():\n",
    "#     if operator != \"StmtDeletion\" and operator != \"ComparisonOperator\":\n",
    "#         for target_node in op_target_ingredient_dict[operator].keys():\n",
    "#             for ingredient_node, stats in op_target_ingredient_dict[operator][target_node].items():\n",
    "#                 print(f\"{operator} - {target_node} - {ingredient_node} - {stats}\")\n",
    "\n",
    "#             print(\"\\n\")"
   ]
  },
  {
   "cell_type": "code",
   "execution_count": 18,
   "metadata": {
    "scrolled": false
   },
   "outputs": [
    {
     "name": "stdout",
     "output_type": "stream",
     "text": [
      "StmtReplacement,decl_stmt,expr_stmt,5915,96.03%,3.97%,0.0%,0.02%,3.96%,3.35%\n",
      "StmtReplacement,decl_stmt,for,2198,95.63%,4.37%,0.0%,0.0%,4.37%,4.0%\n",
      "StmtReplacement,decl_stmt,decl_stmt,3713,95.23%,4.77%,0.0%,0.0%,4.77%,3.29%\n",
      "StmtReplacement,decl_stmt,if,2891,96.85%,3.15%,0.0%,0.0%,3.15%,2.56%\n",
      "StmtReplacement,decl_stmt,return,3258,96.81%,3.19%,0.0%,0.0%,3.19%,2.42%\n",
      "StmtReplacement,decl_stmt,while,482,97.51%,2.49%,0.0%,0.0%,2.49%,2.07%\n",
      "StmtReplacement,decl_stmt,continue,50,100.0%,0.0%,0.0%,0.0%,0.0%,0.0%\n",
      "StmtReplacement,return,for,1308,88.91%,11.09%,0.15%,3.59%,7.34%,5.28%\n",
      "StmtReplacement,return,expr_stmt,3102,85.17%,14.83%,0.64%,7.32%,6.87%,4.51%\n",
      "StmtReplacement,return,decl_stmt,3393,86.44%,13.56%,0.0%,3.86%,9.7%,5.31%\n",
      "StmtReplacement,return,if,3499,82.62%,17.38%,0.11%,3.03%,14.23%,7.83%\n",
      "StmtReplacement,return,return,3211,27.56%,72.44%,8.38%,28.62%,35.44%,15.42%\n",
      "StmtReplacement,return,while,253,49.41%,50.59%,0.0%,5.53%,45.06%,24.11%\n",
      "StmtReplacement,return,continue,19,63.16%,36.84%,0.0%,36.84%,0.0%,0.0%\n",
      "StmtReplacement,for,for,838,77.45%,22.55%,0.36%,8.47%,13.72%,6.8%\n",
      "StmtReplacement,for,decl_stmt,2201,78.96%,21.04%,1.32%,7.22%,12.49%,6.22%\n",
      "StmtReplacement,for,expr_stmt,2450,75.02%,24.98%,1.67%,12.29%,11.02%,5.47%\n",
      "StmtReplacement,for,return,1333,86.8%,13.2%,1.05%,1.73%,10.43%,5.7%\n",
      "StmtReplacement,for,if,1098,75.5%,24.5%,2.91%,7.83%,13.75%,8.56%\n",
      "StmtReplacement,for,while,114,62.28%,37.72%,0.0%,35.96%,1.75%,0.88%\n",
      "StmtReplacement,for,continue,10,60.0%,40.0%,0.0%,0.0%,40.0%,0.0%\n",
      "StmtReplacement,expr_stmt,decl_stmt,5844,80.44%,19.56%,0.31%,3.82%,15.43%,8.16%\n",
      "StmtReplacement,expr_stmt,for,2499,78.59%,21.41%,1.6%,6.6%,13.21%,8.44%\n",
      "StmtReplacement,expr_stmt,return,3064,57.47%,42.53%,2.22%,13.28%,27.02%,11.65%\n",
      "StmtReplacement,expr_stmt,expr_stmt,6056,42.29%,57.71%,4.03%,24.34%,29.34%,11.33%\n",
      "StmtReplacement,expr_stmt,if,2965,52.95%,47.05%,1.89%,14.37%,30.79%,14.23%\n",
      "StmtReplacement,expr_stmt,while,664,56.93%,43.07%,0.15%,17.47%,25.45%,8.28%\n",
      "StmtReplacement,expr_stmt,continue,42,42.86%,57.14%,0.0%,19.05%,38.1%,4.76%\n",
      "StmtReplacement,if,for,1165,91.93%,8.07%,1.55%,0.86%,5.67%,4.55%\n",
      "StmtReplacement,if,expr_stmt,2999,74.56%,25.44%,0.93%,12.97%,11.54%,6.44%\n",
      "StmtReplacement,if,decl_stmt,2968,84.6%,15.4%,1.35%,4.31%,9.74%,5.32%\n",
      "StmtReplacement,if,return,3565,84.35%,15.65%,1.65%,6.7%,7.29%,4.18%\n",
      "StmtReplacement,if,if,1604,58.54%,41.46%,7.67%,14.59%,19.2%,7.61%\n",
      "StmtReplacement,if,while,217,69.12%,30.88%,0.0%,3.69%,27.19%,16.13%\n",
      "StmtReplacement,if,continue,21,76.19%,23.81%,0.0%,19.05%,4.76%,4.76%\n",
      "StmtReplacement,while,expr_stmt,653,67.08%,32.92%,0.77%,24.2%,7.96%,5.82%\n",
      "StmtReplacement,while,decl_stmt,433,80.37%,19.63%,0.0%,5.31%,14.32%,4.85%\n",
      "StmtReplacement,while,return,222,48.2%,51.8%,0.0%,38.29%,13.51%,6.31%\n",
      "StmtReplacement,while,if,222,80.18%,19.82%,0.0%,14.86%,4.95%,4.95%\n",
      "StmtReplacement,while,for,96,41.67%,58.33%,0.0%,19.79%,38.54%,10.42%\n",
      "StmtReplacement,while,continue,4,100.0%,0.0%,0.0%,0.0%,0.0%,0.0%\n",
      "StmtReplacement,continue,expr_stmt,48,37.5%,62.5%,0.0%,0.0%,62.5%,22.92%\n",
      "StmtReplacement,continue,if,21,23.81%,76.19%,0.0%,0.0%,76.19%,52.38%\n",
      "StmtReplacement,continue,decl_stmt,42,88.1%,11.9%,0.0%,0.0%,11.9%,9.52%\n",
      "StmtReplacement,continue,return,18,16.67%,83.33%,0.0%,0.0%,83.33%,33.33%\n",
      "StmtReplacement,continue,while,6,100.0%,0.0%,0.0%,0.0%,0.0%,0.0%\n",
      "StmtReplacement,continue,for,8,100.0%,0.0%,0.0%,0.0%,0.0%,0.0%\n",
      "StmtInsertion,expr_stmt,for,2535,77.51%,22.49%,0.36%,2.01%,20.12%,9.86%\n",
      "StmtInsertion,expr_stmt,decl_stmt,6004,79.68%,20.32%,0.0%,0.43%,19.89%,10.09%\n",
      "StmtInsertion,expr_stmt,return,3017,90.88%,9.12%,0.0%,0.0%,9.12%,7.49%\n",
      "StmtInsertion,expr_stmt,expr_stmt,7826,28.46%,71.54%,1.96%,17.76%,51.83%,20.62%\n",
      "StmtInsertion,expr_stmt,if,2985,43.99%,56.01%,0.2%,4.76%,51.06%,23.69%\n",
      "StmtInsertion,expr_stmt,while,660,51.52%,48.48%,0.3%,8.79%,39.39%,16.06%\n",
      "StmtInsertion,expr_stmt,continue,48,97.92%,2.08%,0.0%,0.0%,2.08%,0.0%\n",
      "StmtInsertion,decl_stmt,for,2208,88.59%,11.41%,0.05%,2.13%,9.24%,4.85%\n",
      "StmtInsertion,decl_stmt,decl_stmt,5304,89.37%,10.63%,0.0%,0.47%,10.16%,5.09%\n",
      "StmtInsertion,decl_stmt,expr_stmt,5884,82.73%,17.27%,0.17%,5.46%,11.64%,5.06%\n",
      "StmtInsertion,decl_stmt,return,3297,97.0%,3.0%,0.0%,0.0%,3.0%,2.49%\n",
      "StmtInsertion,decl_stmt,if,2951,75.36%,24.64%,0.0%,0.07%,24.57%,11.76%\n",
      "StmtInsertion,decl_stmt,while,463,80.35%,19.65%,0.22%,7.56%,11.88%,5.83%\n",
      "StmtInsertion,decl_stmt,continue,51,100.0%,0.0%,0.0%,0.0%,0.0%,0.0%\n",
      "StmtInsertion,for,return,1285,94.4%,5.6%,0.0%,0.0%,5.6%,4.9%\n",
      "StmtInsertion,for,decl_stmt,2169,88.84%,11.16%,0.0%,0.0%,11.16%,6.64%\n",
      "StmtInsertion,for,if,1140,76.05%,23.95%,0.0%,1.14%,22.81%,12.02%\n",
      "StmtInsertion,for,for,1498,40.32%,59.68%,0.47%,16.15%,43.06%,18.29%\n",
      "StmtInsertion,for,expr_stmt,2506,74.86%,25.14%,1.12%,7.06%,16.96%,8.46%\n",
      "StmtInsertion,for,while,84,67.86%,32.14%,0.0%,0.0%,32.14%,4.76%\n",
      "StmtInsertion,for,continue,13,100.0%,0.0%,0.0%,0.0%,0.0%,0.0%\n",
      "StmtInsertion,if,decl_stmt,2791,87.1%,12.9%,0.0%,0.0%,12.9%,6.84%\n",
      "StmtInsertion,if,expr_stmt,2945,52.6%,47.4%,3.84%,19.56%,24.01%,11.21%\n",
      "StmtInsertion,if,if,2868,29.15%,70.85%,0.87%,4.85%,65.13%,28.38%\n",
      "StmtInsertion,if,return,3566,96.86%,3.14%,0.0%,0.0%,3.14%,2.83%\n",
      "StmtInsertion,if,for,1116,86.38%,13.62%,0.18%,0.9%,12.54%,7.26%\n",
      "StmtInsertion,if,while,261,78.93%,21.07%,0.0%,8.05%,13.03%,7.66%\n",
      "StmtInsertion,if,continue,24,100.0%,0.0%,0.0%,0.0%,0.0%,0.0%\n",
      "StmtInsertion,return,decl_stmt,3318,62.15%,37.85%,4.43%,0.99%,32.43%,13.53%\n",
      "StmtInsertion,return,expr_stmt,2997,59.06%,40.94%,0.73%,7.91%,32.3%,12.95%\n",
      "StmtInsertion,return,for,1283,46.38%,53.62%,1.09%,12.94%,39.59%,15.59%\n",
      "StmtInsertion,return,if,3549,52.89%,47.11%,0.03%,1.83%,45.25%,21.16%\n",
      "StmtInsertion,return,return,4931,94.65%,5.35%,0.0%,0.02%,5.33%,4.32%\n",
      "StmtInsertion,return,while,232,57.33%,42.67%,0.0%,4.31%,38.36%,21.12%\n",
      "StmtInsertion,return,continue,23,100.0%,0.0%,0.0%,0.0%,0.0%,0.0%\n",
      "StmtInsertion,while,if,225,44.44%,55.56%,0.0%,23.56%,32.0%,18.22%\n",
      "StmtInsertion,while,expr_stmt,661,50.38%,49.62%,1.06%,31.01%,17.55%,10.74%\n",
      "StmtInsertion,while,decl_stmt,470,82.98%,17.02%,0.0%,0.0%,17.02%,7.02%\n",
      "StmtInsertion,while,while,159,45.28%,54.72%,0.0%,3.14%,51.57%,20.13%\n",
      "StmtInsertion,while,return,253,92.09%,7.91%,0.0%,0.0%,7.91%,7.11%\n",
      "StmtInsertion,while,for,105,38.1%,61.9%,0.0%,32.38%,29.52%,1.9%\n",
      "StmtInsertion,while,continue,9,100.0%,0.0%,0.0%,0.0%,0.0%,0.0%\n",
      "StmtInsertion,continue,expr_stmt,54,31.48%,68.52%,0.0%,0.0%,68.52%,31.48%\n",
      "StmtInsertion,continue,return,22,86.36%,13.64%,0.0%,0.0%,13.64%,9.09%\n",
      "StmtInsertion,continue,for,13,100.0%,0.0%,0.0%,0.0%,0.0%,0.0%\n",
      "StmtInsertion,continue,if,14,7.14%,92.86%,0.0%,0.0%,92.86%,50.0%\n",
      "StmtInsertion,continue,decl_stmt,48,64.58%,35.42%,0.0%,0.0%,35.42%,16.67%\n",
      "StmtInsertion,continue,while,7,100.0%,0.0%,0.0%,0.0%,0.0%,0.0%\n",
      "StmtInsertion,continue,continue,5,100.0%,0.0%,0.0%,0.0%,0.0%,0.0%\n"
     ]
    }
   ],
   "source": [
    "for operator in op_target_dict.keys():\n",
    "    if operator != \"StmtDeletion\" and operator != \"ComparisonOperator\":\n",
    "        for target_node in op_target_ingredient_dict[operator].keys():\n",
    "            for ingredient_node, stats in op_target_ingredient_dict[operator][target_node].items():\n",
    "                iter_num = stats[0] + stats[1]\n",
    "                stats_percent = [make_percent(el / iter_num) for el in stats]\n",
    "                print(f\"{operator},{target_node},{ingredient_node},{iter_num},\" ,end=\"\")\n",
    "                print(f\"{stats_percent[0]},{stats_percent[1]},{stats_percent[2]},{stats_percent[3]},{stats_percent[4]},{stats_percent[5]}\")      \n",
    "\n",
    "            #print(\"\\n\")"
   ]
  },
  {
   "cell_type": "code",
   "execution_count": 61,
   "metadata": {},
   "outputs": [],
   "source": [
    "comp_op_per_program_dict = {\n",
    "    'BFS': {'./for[1]/for[1]/operator_comp[1]': '=='},\n",
    "    'DFS': {'./if[2]/operator_comp[1]': '=='},\n",
    "    'DETECT_CYCLE': {\n",
    "        './while[1]/if[1]/operator_comp[1]': '==', \n",
    "        './while[1]/if[2]/operator_comp[1]': '=='\n",
    "    },\n",
    "    'FIND_IN_SORTED': {\n",
    "        './if[1]/operator_comp[1]': '==',\n",
    "        './if[2]/operator_comp[1]': '<', \n",
    "        './if[3]/operator_comp[1]': '>'\n",
    "    },\n",
    "    'FLATTEN': dict(),\n",
    "    'GET_FACTORS': {\n",
    "        './if[1]/operator_comp[1]': '==', \n",
    "        './for[1]/operator_comp[1]': '<', \n",
    "        './for[1]/if[1]/operator_comp[1]': '=='\n",
    "    },\n",
    "    'IS_VALID_PARENTHESIZATION': {\n",
    "        './for[1]/operator_comp[1]': '<', \n",
    "        './for[1]/if[2]/operator_comp[1]': '<'\n",
    "    },\n",
    "    'KHEAPSORT': dict(),\n",
    "    'KNAPSACK': {\n",
    "        './for[1]/operator_comp[1]': '<=', \n",
    "        './for[1]/if[1]/operator_comp[1]': '>=',\n",
    "        './for[1]/for[1]/operator_comp[1]': '<=', \n",
    "        './for[1]/for[1]/if[1]/operator_comp[1]': '==', \n",
    "        './for[1]/for[1]/if[1]/operator_comp[2]': '==', \n",
    "        './for[1]/for[1]/if[2]/operator_comp[1]': '<'\n",
    "    },\n",
    "    'KTH': {\n",
    "        './for[1]/if[1]/operator_comp[1]': '<',\n",
    "        './for[1]/if[2]/operator_comp[1]': '>', \n",
    "        './if[1]/operator_comp[1]': '<', \n",
    "        './if[2]/operator_comp[1]': '>='},\n",
    "    'LCS_LENGTH': {\n",
    "        './for[1]/operator_comp[1]': '<', \n",
    "        './for[1]/for[1]/operator_comp[1]': '<', \n",
    "        './for[2]/operator_comp[1]': '<', \n",
    "        './for[2]/for[1]/operator_comp[1]': '<', \n",
    "        './for[2]/for[1]/if[1]/operator_comp[1]': '==', \n",
    "        './if[1]/for[1]/operator_comp[1]': '<'\n",
    "    },\n",
    "    'LEVENSHTEIN': {'./if[2]/operator_comp[1]': '=='},\n",
    "    'LIS': {\n",
    "        './for[1]/for[1]/operator_comp[1]', \n",
    "        './for[1]/for[1]/if[1]/operator_comp[1]', \n",
    "        './for[1]/if[1]/operator_comp[1]', \n",
    "        './for[1]/if[1]/operator_comp[2]'\n",
    "    },\n",
    "    'LONGEST_COMMON_SUBSEQUENCE': {\n",
    "        './if[2]/operator_comp[1]': '==', \n",
    "        './return[1]/operator_comp[1]': '>='\n",
    "    },\n",
    "    'MAX_SUBLIST_SUM': dict(),\n",
    "    'MERGESORT': {\n",
    "        './while[1]/operator_comp[1]': '<', \n",
    "        './while[1]/operator_comp[2]': '<', \n",
    "        './while[1]/if[1]/operator_comp[1]': '<=', \n",
    "        './if[1]/operator_comp[1]': '=='\n",
    "    },\n",
    "    'NEXT_PALINDROME': {\n",
    "        './while[1]/operator_comp[1]': '<', \n",
    "        './while[1]/operator_comp[2]': '>=', \n",
    "        './while[1]/if[1]/operator_comp[1]': '==', \n",
    "        './while[1]/if[2]/operator_comp[1]': '!='\n",
    "    },\n",
    "    'NEXT_PERMUTATION': {\n",
    "        './for[1]/operator_comp[1]': '!=', \n",
    "        './for[1]/if[1]/operator_comp[1]': '<', \n",
    "        './for[1]/if[1]/for[1]/operator_comp[1]': '!=', \n",
    "        './for[1]/if[1]/for[1]/if[1]/operator_comp[1]': '<', \n",
    "        './for[1]/if[1]/for[1]/if[1]/for[1]/operator_comp[1]': '!='\n",
    "    },\n",
    "    'PASCAL': {\n",
    "        './for[1]/operator_comp[1]': '<', \n",
    "        './for[1]/for[1]/operator_comp[1]': '<', \n",
    "        './for[1]/for[1]/if[1]/operator_comp[1]': '>', \n",
    "        './for[1]/for[1]/if[2]/operator_comp[1]': '<'\n",
    "    },\n",
    "    'POWERSET': dict(),\n",
    "    'QUICKSORT': {\n",
    "        './for[1]/if[1]/operator_comp[1]': '<', \n",
    "        './for[1]/if[2]/operator_comp[1]': '>'\n",
    "    },\n",
    "    'SHORTEST_PATH_LENGTH': {\n",
    "        './while[1]/if[1]/operator_comp[1]': '==', \n",
    "        './while[1]/for[1]/if[2]/operator_comp[1]': '==', \n",
    "        './for[1]/if[1]/operator_comp[1]': '<'\n",
    "    },\n",
    "    'SHORTEST_PATH_LENGTHS': {\n",
    "        './for[1]/operator_comp[1]': '<', \n",
    "        './for[1]/for[1]/operator_comp[1]': '<', \n",
    "        './for[1]/for[1]/if[1]/operator_comp[1]': '==', \n",
    "        './for[2]/operator_comp[1]': '<', \n",
    "        './for[2]/for[1]/operator_comp[1]': '<', \n",
    "        './for[2]/for[1]/for[1]/operator_comp[1]': '<'\n",
    "    },\n",
    "    'SIEVE': {\n",
    "        './for[3]/expr_stmt[1]/operator_comp[1]': '>', \n",
    "        './for[4]/operator_comp[1]': '<'\n",
    "    },\n",
    "    'SUBSEQUENCES': {\n",
    "        './if[1]/operator_comp[1]': '==', \n",
    "        './for[1]/operator_comp[1]': '<'\n",
    "    },\n",
    "    'WRAP': {\n",
    "        './while[1]/operator_comp[1]': '>', \n",
    "        './while[1]/if[1]/operator_comp[1]': '=='\n",
    "    } \n",
    "}"
   ]
  }
 ],
 "metadata": {
  "kernelspec": {
   "display_name": "Python 3",
   "language": "python",
   "name": "python3"
  },
  "language_info": {
   "codemirror_mode": {
    "name": "ipython",
    "version": 3
   },
   "file_extension": ".py",
   "mimetype": "text/x-python",
   "name": "python",
   "nbconvert_exporter": "python",
   "pygments_lexer": "ipython3",
   "version": "3.8.5"
  }
 },
 "nbformat": 4,
 "nbformat_minor": 4
}

{
 "cells": [
  {
   "cell_type": "code",
   "execution_count": 58,
   "metadata": {},
   "outputs": [],
   "source": [
    "import os\n",
    "import collections\n",
    "import re\n",
    "import pprint"
   ]
  },
  {
   "cell_type": "markdown",
   "metadata": {},
   "source": [
    "# Importing data"
   ]
  },
  {
   "cell_type": "code",
   "execution_count": 2,
   "metadata": {},
   "outputs": [],
   "source": [
    "FILES_1 = [file for file in os.listdir(\"logs_uniform\") if file[-6:] == \"_2.log\"]"
   ]
  },
  {
   "cell_type": "code",
   "execution_count": 3,
   "metadata": {},
   "outputs": [],
   "source": [
    "FILES_2 = [file for file in os.listdir(\"logs_uniform2\") if file[-6:] == \"_2.log\"]"
   ]
  },
  {
   "cell_type": "code",
   "execution_count": 26,
   "metadata": {},
   "outputs": [
    {
     "data": {
      "text/plain": [
       "26"
      ]
     },
     "execution_count": 26,
     "metadata": {},
     "output_type": "execute_result"
    }
   ],
   "source": [
    "len(FILES_1) + len(FILES_2)"
   ]
  },
  {
   "cell_type": "code",
   "execution_count": 27,
   "metadata": {},
   "outputs": [],
   "source": [
    "records_list = list()\n",
    "\n",
    "for file in FILES_1:\n",
    "    f = open(f\"logs_uniform/{file}\", \"r\")\n",
    "    for line in f:\n",
    "        records_list.append(line.strip().split(\";\"))\n",
    "\n",
    "for file in FILES_2:\n",
    "    f = open(f\"logs_uniform2/{file}\", \"r\")\n",
    "    for line in f:\n",
    "        records_list.append(line.strip().split(\";\"))"
   ]
  },
  {
   "cell_type": "code",
   "execution_count": 29,
   "metadata": {},
   "outputs": [
    {
     "data": {
      "text/plain": [
       "240001"
      ]
     },
     "execution_count": 29,
     "metadata": {},
     "output_type": "execute_result"
    }
   ],
   "source": [
    "len(records_list)"
   ]
  },
  {
   "cell_type": "code",
   "execution_count": 31,
   "metadata": {},
   "outputs": [
    {
     "data": {
      "text/plain": [
       "['4',\n",
       " 'SUCCESS',\n",
       " '0',\n",
       " '8.0',\n",
       " '8.0',\n",
       " '0',\n",
       " '1',\n",
       " 'EditDeletion-EmptyPatch',\n",
       " 'None',\n",
       " 'None',\n",
       " \"{'test_6(java_testcases.junit.LCS_LENGTH_TEST): null', 'test_5(java_testcases.junit.LCS_LENGTH_TEST): null', 'test_8(java_testcases.junit.LCS_LENGTH_TEST): null', 'test_0(java_testcases.junit.LCS_LENGTH_TEST): null', 'test_7(java_testcases.junit.LCS_LENGTH_TEST): null', 'test_4(java_testcases.junit.LCS_LENGTH_TEST): null', 'test_1(java_testcases.junit.LCS_LENGTH_TEST): null', 'test_3(java_testcases.junit.LCS_LENGTH_TEST): null'}\"]"
      ]
     },
     "execution_count": 31,
     "metadata": {},
     "output_type": "execute_result"
    }
   ],
   "source": [
    "records_list[3]"
   ]
  },
  {
   "cell_type": "code",
   "execution_count": 32,
   "metadata": {},
   "outputs": [],
   "source": [
    "for line in records_list:\n",
    "    \n",
    "    if line[10] != \"None\":\n",
    "        line[10] = line[10].split(\", \")\n",
    "        line[10][0] = line[10][0][1:]\n",
    "        line[10][-1] = line[10][-1][:-2]\n",
    "        line[10] = set(line[10])"
   ]
  },
  {
   "cell_type": "code",
   "execution_count": 36,
   "metadata": {},
   "outputs": [
    {
     "data": {
      "text/plain": [
       "['2',\n",
       " 'PARSE_ERROR',\n",
       " '1',\n",
       " 'None',\n",
       " '8.0',\n",
       " '1',\n",
       " '0',\n",
       " 'StmtReplacement',\n",
       " './for[2]/for[1]/if[1]/if[1]/decl_stmt[1]',\n",
       " './for[2]/for[1]/if[1]/if[1]',\n",
       " 'None']"
      ]
     },
     "execution_count": 36,
     "metadata": {},
     "output_type": "execute_result"
    }
   ],
   "source": [
    "records_list[1]"
   ]
  },
  {
   "cell_type": "markdown",
   "metadata": {},
   "source": [
    "# Aggregating data: operator x target node"
   ]
  },
  {
   "cell_type": "markdown",
   "metadata": {},
   "source": [
    "0 iter, 1 run status, 2 return code, 3 current fitness, 4 previous fitness, 5 current patch, 6 previous patch, 7 operator, 8 target, 9 ingredient, 10 failures info"
   ]
  },
  {
   "cell_type": "markdown",
   "metadata": {},
   "source": [
    "aggr_dict[operator] = {node_type: [better fitness, worse fitness, same fitness]}"
   ]
  },
  {
   "cell_type": "code",
   "execution_count": 109,
   "metadata": {},
   "outputs": [],
   "source": [
    "aggr_dict = collections.defaultdict(dict)\n",
    "\n",
    "iter_per_operator = collections.defaultdict(int)\n",
    "\n",
    "for line in records_list:\n",
    "    operator = line[7]\n",
    "    \n",
    "    iter_per_operator[operator] += 1\n",
    "    \n",
    "    if not \"EditDeletion\" in operator: # and operator != \"ComparisonOperator\": \n",
    "        target = line[8].split(\"/\")[-1][:-3]\n",
    "        fitness = line[3]\n",
    "        previous_fitness = line[4]\n",
    "        tests_info = line[10]\n",
    "        \n",
    "        if not target in aggr_dict[operator].keys():\n",
    "            aggr_dict[operator][target] = [0, 0, 0]\n",
    "        \n",
    "        if fitness < previous_fitness:\n",
    "            aggr_dict[operator][target][0] += 1\n",
    "        elif fitness > previous_fitness:\n",
    "            aggr_dict[operator][target][1] += 1\n",
    "        else:\n",
    "            aggr_dict[operator][target][2] += 1"
   ]
  },
  {
   "cell_type": "code",
   "execution_count": 110,
   "metadata": {
    "scrolled": true
   },
   "outputs": [
    {
     "name": "stdout",
     "output_type": "stream",
     "text": [
      "StmtDeletion 7513 3.13%\n",
      "StmtReplacement 85436 35.6%\n",
      "EditDeletion-EmptyPatch 24020 10.01%\n",
      "StmtInsertion 85860 35.77%\n",
      "ComparisonOperator 6747 2.81%\n",
      "EditDeletion 30425 12.68%\n"
     ]
    }
   ],
   "source": [
    "for key, value in iter_per_operator.items():\n",
    "    print(key, value, make_percent(value / len(records_list)))"
   ]
  },
  {
   "cell_type": "code",
   "execution_count": 111,
   "metadata": {},
   "outputs": [
    {
     "name": "stdout",
     "output_type": "stream",
     "text": [
      "defaultdict(<class 'dict'>,\n",
      "            {'ComparisonOperator': {'operator_comp': [824, 2574, 3349]},\n",
      "             'StmtDeletion': {'continue': [0, 0, 7],\n",
      "                              'decl_stmt': [0, 1691, 80],\n",
      "                              'expr_stmt': [51, 973, 821],\n",
      "                              'for': [57, 299, 293],\n",
      "                              'if': [130, 963, 231],\n",
      "                              'return': [23, 1558, 183],\n",
      "                              'while': [0, 113, 40]},\n",
      "             'StmtInsertion': {'continue': [0, 76, 66],\n",
      "                               'decl_stmt': [15, 18264, 2401],\n",
      "                               'expr_stmt': [135, 15592, 7815],\n",
      "                               'for': [41, 7066, 1645],\n",
      "                               'if': [139, 10596, 3395],\n",
      "                               'return': [199, 11909, 4622],\n",
      "                               'while': [2, 1527, 355]},\n",
      "             'StmtReplacement': {'continue': [0, 71, 69],\n",
      "                                 'decl_stmt': [0, 18156, 2514],\n",
      "                                 'expr_stmt': [387, 16542, 6608],\n",
      "                                 'for': [132, 7154, 1537],\n",
      "                                 'if': [279, 11014, 2490],\n",
      "                                 'return': [320, 12274, 4063],\n",
      "                                 'while': [1, 1488, 337]}})\n"
     ]
    }
   ],
   "source": [
    "pp = pprint.PrettyPrinter(indent=1)\n",
    "pp.pprint(aggr_dict)"
   ]
  },
  {
   "cell_type": "code",
   "execution_count": 112,
   "metadata": {},
   "outputs": [],
   "source": [
    "def make_percent(num):\n",
    "    num = num * 100\n",
    "    num = round(num, 2)\n",
    "    \n",
    "    return str(num) + \"%\""
   ]
  },
  {
   "cell_type": "code",
   "execution_count": 113,
   "metadata": {},
   "outputs": [],
   "source": [
    "percentage_aggr_dict = collections.defaultdict(dict)\n",
    "\n",
    "for operator in aggr_dict.keys():\n",
    "    for target in aggr_dict[operator].keys():\n",
    "        stats = aggr_dict[operator][target]\n",
    "        \n",
    "        percentage_aggr_dict[operator][target] = [\n",
    "            make_percent(stats[0] / sum(stats)), \n",
    "            make_percent(stats[1] / sum(stats)), \n",
    "           make_percent( stats[2] / sum(stats))\n",
    "        ]"
   ]
  },
  {
   "cell_type": "code",
   "execution_count": 114,
   "metadata": {},
   "outputs": [
    {
     "name": "stdout",
     "output_type": "stream",
     "text": [
      "defaultdict(<class 'dict'>,\n",
      "            {'ComparisonOperator': {'operator_comp': ['12.21%',\n",
      "                                                      '38.15%',\n",
      "                                                      '49.64%']},\n",
      "             'StmtDeletion': {'continue': ['0.0%', '0.0%', '100.0%'],\n",
      "                              'decl_stmt': ['0.0%', '95.48%', '4.52%'],\n",
      "                              'expr_stmt': ['2.76%', '52.74%', '44.5%'],\n",
      "                              'for': ['8.78%', '46.07%', '45.15%'],\n",
      "                              'if': ['9.82%', '72.73%', '17.45%'],\n",
      "                              'return': ['1.3%', '88.32%', '10.37%'],\n",
      "                              'while': ['0.0%', '73.86%', '26.14%']},\n",
      "             'StmtInsertion': {'continue': ['0.0%', '53.52%', '46.48%'],\n",
      "                               'decl_stmt': ['0.07%', '88.32%', '11.61%'],\n",
      "                               'expr_stmt': ['0.57%', '66.23%', '33.2%'],\n",
      "                               'for': ['0.47%', '80.74%', '18.8%'],\n",
      "                               'if': ['0.98%', '74.99%', '24.03%'],\n",
      "                               'return': ['1.19%', '71.18%', '27.63%'],\n",
      "                               'while': ['0.11%', '81.05%', '18.84%']},\n",
      "             'StmtReplacement': {'continue': ['0.0%', '50.71%', '49.29%'],\n",
      "                                 'decl_stmt': ['0.0%', '87.84%', '12.16%'],\n",
      "                                 'expr_stmt': ['1.64%', '70.28%', '28.07%'],\n",
      "                                 'for': ['1.5%', '81.08%', '17.42%'],\n",
      "                                 'if': ['2.02%', '79.91%', '18.07%'],\n",
      "                                 'return': ['1.92%', '73.69%', '24.39%'],\n",
      "                                 'while': ['0.05%', '81.49%', '18.46%']}})\n"
     ]
    }
   ],
   "source": [
    "pp = pprint.PrettyPrinter(indent=1)\n",
    "pp.pprint(percentage_aggr_dict)"
   ]
  },
  {
   "cell_type": "code",
   "execution_count": 115,
   "metadata": {},
   "outputs": [],
   "source": [
    "improved_fitness_sum = 0\n",
    "improved_fitness_per_operator = collections.defaultdict(int)\n",
    "\n",
    "for operator in aggr_dict.keys():\n",
    "    for target in aggr_dict[operator].keys():\n",
    "        improved_fitness_sum += aggr_dict[operator][target][0]\n",
    "        improved_fitness_per_operator[operator] += aggr_dict[operator][target][0]"
   ]
  },
  {
   "cell_type": "code",
   "execution_count": 116,
   "metadata": {},
   "outputs": [
    {
     "data": {
      "text/plain": [
       "2735"
      ]
     },
     "execution_count": 116,
     "metadata": {},
     "output_type": "execute_result"
    }
   ],
   "source": [
    "improved_fitness_sum"
   ]
  },
  {
   "cell_type": "code",
   "execution_count": 117,
   "metadata": {},
   "outputs": [
    {
     "name": "stdout",
     "output_type": "stream",
     "text": [
      "StmtDeletion 261 9.54%\n",
      "StmtReplacement 1119 40.91%\n",
      "StmtInsertion 531 19.41%\n",
      "ComparisonOperator 824 30.13%\n"
     ]
    }
   ],
   "source": [
    "for key, value in improved_fitness_per_operator.items():\n",
    "    print(key, value, make_percent(value / improved_fitness_sum))"
   ]
  },
  {
   "cell_type": "code",
   "execution_count": 118,
   "metadata": {},
   "outputs": [
    {
     "name": "stdout",
     "output_type": "stream",
     "text": [
      "StmtDeletion decl_stmt - 0.0%\n",
      "StmtDeletion expr_stmt - 1.86%\n",
      "StmtDeletion if - 4.75%\n",
      "StmtDeletion for - 2.08%\n",
      "StmtDeletion return - 0.84%\n",
      "StmtDeletion while - 0.0%\n",
      "StmtDeletion continue - 0.0%\n",
      "StmtReplacement decl_stmt - 0.0%\n",
      "StmtReplacement for - 4.83%\n",
      "StmtReplacement return - 11.7%\n",
      "StmtReplacement expr_stmt - 14.15%\n",
      "StmtReplacement if - 10.2%\n",
      "StmtReplacement while - 0.04%\n",
      "StmtReplacement continue - 0.0%\n",
      "StmtInsertion expr_stmt - 4.94%\n",
      "StmtInsertion if - 5.08%\n",
      "StmtInsertion decl_stmt - 0.55%\n",
      "StmtInsertion return - 7.28%\n",
      "StmtInsertion for - 1.5%\n",
      "StmtInsertion while - 0.07%\n",
      "StmtInsertion continue - 0.0%\n",
      "ComparisonOperator operator_comp - 30.13%\n"
     ]
    }
   ],
   "source": [
    "for operator in aggr_dict.keys():\n",
    "    for target in aggr_dict[operator].keys():\n",
    "        print(operator, target, \"-\", make_percent(aggr_dict[operator][target][0]/improved_fitness_sum))"
   ]
  },
  {
   "cell_type": "markdown",
   "metadata": {},
   "source": [
    "# Aggregating data: operator x target node x ingredient node"
   ]
  },
  {
   "cell_type": "markdown",
   "metadata": {},
   "source": [
    "0 iter, 1 run status, 2 return code, 3 current fitness, 4 previous fitness, 5 current patch, 6 previous patch, 7 operator, 8 target, 9 ingredient, 10 failures info"
   ]
  },
  {
   "cell_type": "code",
   "execution_count": null,
   "metadata": {},
   "outputs": [],
   "source": []
  }
 ],
 "metadata": {
  "kernelspec": {
   "display_name": "Python 3",
   "language": "python",
   "name": "python3"
  },
  "language_info": {
   "codemirror_mode": {
    "name": "ipython",
    "version": 3
   },
   "file_extension": ".py",
   "mimetype": "text/x-python",
   "name": "python",
   "nbconvert_exporter": "python",
   "pygments_lexer": "ipython3",
   "version": "3.8.5"
  }
 },
 "nbformat": 4,
 "nbformat_minor": 4
}
